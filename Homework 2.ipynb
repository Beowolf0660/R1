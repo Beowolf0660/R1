{
 "cells": [
  {
   "cell_type": "markdown",
   "metadata": {},
   "source": [
    "# Homework  \n"
   ]
  },
  {
   "cell_type": "code",
   "execution_count": 5,
   "metadata": {},
   "outputs": [],
   "source": [
    "#Data Set (in folder too)\n",
    "revenue = [14574.49, 7606.46, 8611.41, 9175.41, 8058.65, 8105.44, 11496.28, 9766.09, 10305.32, 14379.96, 10713.97, 15433.50]\n",
    "expenses = [12051.82, 5695.07, 12319.20, 12089.72, 8658.57, 840.20, 3285.73, 5821.12, 6976.93, 16618.61, 10054.37, 3803.96]"
   ]
  },
  {
   "cell_type": "code",
   "execution_count": 13,
   "metadata": {},
   "outputs": [
    {
     "name": "stdout",
     "output_type": "stream",
     "text": [
      "[2522.67, 1911.3900000000003, -3707.790000000001, -2914.3099999999995, -599.9200000000001, 7265.24, 8210.550000000001, 3944.9700000000003, 3328.3899999999994, -2238.6500000000015, 659.5999999999985, 11629.54]\n"
     ]
    },
    {
     "data": {
      "text/plain": [
       "list"
      ]
     },
     "execution_count": 13,
     "metadata": {},
     "output_type": "execute_result"
    }
   ],
   "source": [
    "# Print Profit as list Method 1\n",
    "# profit for each month\n",
    "profit = []\n",
    "for i in range(0,len(revenue)):\n",
    "    profit.append(revenue[i] - expenses[i])      # we use append as profit list has no elemnts under it to assign\n",
    "print(profit) \n",
    "type(profit)"
   ]
  },
  {
   "cell_type": "code",
   "execution_count": 6,
   "metadata": {},
   "outputs": [
    {
     "name": "stdout",
     "output_type": "stream",
     "text": [
      "[2522.67, 1911.3900000000003, -3707.790000000001, -2914.3099999999995, -599.9200000000001, 7265.24, 8210.550000000001, 3944.9700000000003, 3328.3899999999994, -2238.6500000000015, 659.5999999999985, 11629.54]\n"
     ]
    }
   ],
   "source": [
    "# Print Profit Method 2\n",
    "profit=[]\n",
    "for i in range (0,len(revenue)):\n",
    "    profit.append(i)                            # we are adding new element to list to create indexes to be replaced in second step\n",
    "    profit[i]=revenue[i] - expenses[i]          # comment the step for better understanding\n",
    "print(profit)\n"
   ]
  },
  {
   "cell_type": "code",
   "execution_count": 40,
   "metadata": {},
   "outputs": [
    {
     "name": "stdout",
     "output_type": "stream",
     "text": [
      "[1765.869, 1337.9730000000002, -4820.127000000001, -3788.6029999999996, -779.8960000000001, 5085.668, 5747.385, 2761.479, 2329.8729999999996, -2910.245000000002, 461.71999999999895, 8140.678]\n"
     ]
    }
   ],
   "source": [
    "# profit after tax for each month (the tax rate is 30%)\n",
    "\n",
    "profit_taxed = []\n",
    "for i in range (len(profit)):\n",
    "    if profit[i]>0:\n",
    "        profit_taxed.append(profit[i]*.7)\n",
    "    else:\n",
    "        profit_taxed.append(profit[i]*1.3)\n",
    "print (profit_taxed)"
   ]
  },
  {
   "cell_type": "code",
   "execution_count": 13,
   "metadata": {},
   "outputs": [
    {
     "name": "stdout",
     "output_type": "stream",
     "text": [
      "[0.12116163241389578, 0.1758995643176984, -0.5597372555713874, -0.41290830600485423, -0.09677749995346617, 0.6274388558795081, 0.49993432658216397, 0.2827619856052934, 0.2260844884001661, -0.20238199549929223, 0.04309513653668985, 0.5274680403019406]\n"
     ]
    }
   ],
   "source": [
    "# profit margin for each month - equals to profit after tax divided by revenue\n",
    "profit_margin=[]\n",
    "for i in range(len(profit_taxed)):\n",
    "    profit_margin.append(profit_taxed[i]/revenue[i])\n",
    "print(profit_margin)"
   ]
  },
  {
   "cell_type": "code",
   "execution_count": 37,
   "metadata": {},
   "outputs": [
    {
     "name": "stdout",
     "output_type": "stream",
     "text": [
      "profited on month 1\n",
      "profited on month 2\n",
      "loss on month 3\n",
      "loss on month 4\n",
      "loss on month 5\n",
      "profited on month 6\n",
      "profited on month 7\n",
      "profited on month 8\n",
      "profited on month 9\n",
      "loss on month 10\n",
      "loss on month 11\n",
      "profited on month 12\n"
     ]
    }
   ],
   "source": [
    "# good months - where the profit after tax was greater than the mean for the year\n",
    "import numpy as np\n",
    "mean_profit_taxed = np.mean(profit_taxed)\n",
    "for i in range(len(profit_taxed)):\n",
    "    if profit_taxed[i] > mean_profit_taxed:\n",
    "        print(\"profited on month\",i+1)\n",
    "    else:\n",
    "        print(\"loss on month\",i+1)"
   ]
  },
  {
   "cell_type": "code",
   "execution_count": 45,
   "metadata": {},
   "outputs": [
    {
     "name": "stdout",
     "output_type": "stream",
     "text": [
      "12\n"
     ]
    }
   ],
   "source": [
    "# the best month - where the profit after tax was max for the year\n",
    "month_best = profit_taxed.index(max(profit_taxed)) + 1\n",
    "print(month_best)"
   ]
  },
  {
   "cell_type": "code",
   "execution_count": 47,
   "metadata": {},
   "outputs": [
    {
     "name": "stdout",
     "output_type": "stream",
     "text": [
      "3\n"
     ]
    }
   ],
   "source": [
    "# the worst month - where the profit after tax was min for the year\n",
    "month_worst = profit_taxed.index(min(profit_taxed)) + 1\n",
    "print(month_worst)"
   ]
  },
  {
   "cell_type": "code",
   "execution_count": 61,
   "metadata": {},
   "outputs": [
    {
     "name": "stdout",
     "output_type": "stream",
     "text": [
      "[12.12, 17.59, -55.97, -41.29, -9.68, 62.74, 49.99, 28.28, 22.61, -20.24, 4.31, 52.75]\n"
     ]
    }
   ],
   "source": [
    "# Rounded off profit margin\n",
    "# profit margin for each month - equals to profit after tax divided by revenue\n",
    "profit_margin=[]\n",
    "for i in range(len(profit_taxed)):\n",
    "    profit_margin.append(round((profit_taxed[i]/revenue[i])*100,2))   # 2 rounds to show the output as percent\n",
    "print(profit_margin)"
   ]
  },
  {
   "cell_type": "code",
   "execution_count": null,
   "metadata": {},
   "outputs": [],
   "source": []
  }
 ],
 "metadata": {
  "kernelspec": {
   "display_name": "Python 3",
   "language": "python",
   "name": "python3"
  },
  "language_info": {
   "codemirror_mode": {
    "name": "ipython",
    "version": 3
   },
   "file_extension": ".py",
   "mimetype": "text/x-python",
   "name": "python",
   "nbconvert_exporter": "python",
   "pygments_lexer": "ipython3",
   "version": "3.8.3"
  }
 },
 "nbformat": 4,
 "nbformat_minor": 4
}
